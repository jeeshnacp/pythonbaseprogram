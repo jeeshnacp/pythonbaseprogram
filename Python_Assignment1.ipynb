{
  "nbformat": 4,
  "nbformat_minor": 0,
  "metadata": {
    "colab": {
      "name": "Python  Assignment1",
      "provenance": []
    },
    "kernelspec": {
      "display_name": "Python 3",
      "name": "python3"
    },
    "language_info": {
      "name": "python"
    }
  },
  "cells": [
    {
      "cell_type": "code",
      "metadata": {
        "colab": {
          "base_uri": "https://localhost:8080/"
        },
        "id": "6LeHEy0M82al",
        "outputId": "67d0344b-97db-4f98-d84b-4bed15fc9167"
      },
      "source": [
        "#interchange\n",
        "data=['apple','banana','cherry']\n",
        "d=data[0]\n",
        "data[0]=data[-1]\n",
        "data[-1]=d\n",
        "print(data)"
      ],
      "execution_count": null,
      "outputs": [
        {
          "name": "stdout",
          "output_type": "stream",
          "text": [
            "['cherry', 'banana', 'apple']\n"
          ]
        }
      ]
    },
    {
      "cell_type": "code",
      "metadata": {
        "colab": {
          "base_uri": "https://localhost:8080/"
        },
        "id": "qlGBh-Cx-Pvt",
        "outputId": "40d49f29-4081-4778-b82d-b3c00baa84cc"
      },
      "source": [
        "#Smallerest number\n",
        "list=[45,60,75,90,12]\n",
        "list.sort()\n",
        "print(list[0])"
      ],
      "execution_count": null,
      "outputs": [
        {
          "name": "stdout",
          "output_type": "stream",
          "text": [
            "12\n"
          ]
        }
      ]
    },
    {
      "cell_type": "code",
      "metadata": {
        "colab": {
          "base_uri": "https://localhost:8080/"
        },
        "id": "GkSTkrqZ_LKB",
        "outputId": "e8d57175-04e3-44e6-92a2-ddcb41b493b0"
      },
      "source": [
        "#Even number\n",
        "d=[1,2,3,4,5,6,7,8,9,10]\n",
        "for i in d:\n",
        " if i % 2 == 0:\n",
        "  print(i)"
      ],
      "execution_count": null,
      "outputs": [
        {
          "name": "stdout",
          "output_type": "stream",
          "text": [
            "2\n",
            "4\n",
            "6\n",
            "8\n",
            "10\n"
          ]
        }
      ]
    },
    {
      "cell_type": "code",
      "metadata": {
        "colab": {
          "base_uri": "https://localhost:8080/"
        },
        "id": "3WSzdpqXAeS3",
        "outputId": "61314ce6-7344-4768-8582-2b4b28fb2ea1"
      },
      "source": [
        "\n",
        "#odd number\n",
        "a=[1,2,3,4,5,6,7,8,9,0]\n",
        "for i in a:\n",
        " if i % 2!= 0:\n",
        "   print(i)"
      ],
      "execution_count": null,
      "outputs": [
        {
          "name": "stdout",
          "output_type": "stream",
          "text": [
            "1\n",
            "3\n",
            "5\n",
            "7\n",
            "9\n"
          ]
        }
      ]
    },
    {
      "cell_type": "code",
      "metadata": {
        "colab": {
          "base_uri": "https://localhost:8080/"
        },
        "id": "7O3KwPU6TBpm",
        "outputId": "ba8c1baf-28e0-41f8-a72b-dd1d02d938c8"
      },
      "source": [
        "\n",
        "#positive number\n",
        "d=[1,2,-3,-5,66,-55]\n",
        "for i in d:\n",
        " if i >= 0:\n",
        "  print(i)"
      ],
      "execution_count": null,
      "outputs": [
        {
          "name": "stdout",
          "output_type": "stream",
          "text": [
            "1\n",
            "2\n",
            "66\n"
          ]
        }
      ]
    },
    {
      "cell_type": "code",
      "metadata": {
        "colab": {
          "base_uri": "https://localhost:8080/"
        },
        "id": "w8qq-wSvTh4-",
        "outputId": "9550d72d-0db0-4581-9ec6-089d8c5ddde4"
      },
      "source": [
        "#negative number\n",
        "b=[1,2,-3,-5,6,7,-9,-6,-5]\n",
        "for i in b:\n",
        " if i <= 0:\n",
        "  print(i)"
      ],
      "execution_count": null,
      "outputs": [
        {
          "name": "stdout",
          "output_type": "stream",
          "text": [
            "-3\n",
            "-5\n",
            "-9\n",
            "-6\n",
            "-5\n"
          ]
        }
      ]
    },
    {
      "cell_type": "code",
      "metadata": {
        "colab": {
          "base_uri": "https://localhost:8080/"
        },
        "id": "LSL-Inh_OS4q",
        "outputId": "cf9fb624-fd13-4d38-88d5-8841c7ddcdbd"
      },
      "source": [
        "\n",
        "#maximum and minimum of number\n",
        "tuple=(3,5,4,2,10,1)\n",
        "print(max(tuple))\n",
        "print(min(tuple))"
      ],
      "execution_count": null,
      "outputs": [
        {
          "output_type": "stream",
          "name": "stdout",
          "text": [
            "10\n",
            "1\n"
          ]
        }
      ]
    },
    {
      "cell_type": "code",
      "metadata": {
        "colab": {
          "base_uri": "https://localhost:8080/"
        },
        "id": "UvpheUyPMbWU",
        "outputId": "20d3da91-0e1d-42da-dcf3-4e2f7c2b0e41"
      },
      "source": [
        "\n",
        "# convert Fahrenheit to celsius\n",
        "Fahrenheit=35\n",
        "celsius=(Fahrenheit-32)*5/9\n",
        "print(\"temperature in celsius is:\")\n",
        "print(celsius)"
      ],
      "execution_count": null,
      "outputs": [
        {
          "output_type": "stream",
          "name": "stdout",
          "text": [
            "temperature in celsius is:\n",
            "1.6666666666666667\n"
          ]
        }
      ]
    },
    {
      "cell_type": "code",
      "metadata": {
        "colab": {
          "base_uri": "https://localhost:8080/"
        },
        "id": "dvZodaXcVGn9",
        "outputId": "98eb2779-0f0a-4d4d-87d0-d5ee9ec32bdf"
      },
      "source": [
        "#create a list\n",
        "a=['apple','banana','orange']\n",
        "#append()\n",
        "a.append('cherry')\n",
        "print(a)\n",
        "b=[1,2,3,4,5]\n",
        "#extend()\n",
        "a.extend(b)\n",
        "print(a)\n",
        "#len()\n",
        "print(len(a))\n",
        "#membership(in)\n",
        "if 'apple' in a:\n",
        "  print('true')\n",
        "else :\n",
        "  print('false')  "
      ],
      "execution_count": 15,
      "outputs": [
        {
          "output_type": "stream",
          "name": "stdout",
          "text": [
            "['apple', 'banana', 'orange', 'cherry']\n",
            "['apple', 'banana', 'orange', 'cherry', 1, 2, 3, 4, 5]\n",
            "9\n",
            "true\n"
          ]
        }
      ]
    },
    {
      "cell_type": "code",
      "metadata": {
        "id": "9AJSr_aHe_0P",
        "colab": {
          "base_uri": "https://localhost:8080/"
        },
        "outputId": "94539aa5-9417-49db-9d24-85599f48f85e"
      },
      "source": [
        "#membership(not in)\n",
        "if 'tea' not in a:\n",
        "  print('true')\n",
        "else :\n",
        "  print('false')"
      ],
      "execution_count": 14,
      "outputs": [
        {
          "output_type": "stream",
          "name": "stdout",
          "text": [
            "true\n"
          ]
        }
      ]
    },
    {
      "cell_type": "code",
      "metadata": {
        "id": "hsJdOBTrnN92"
      },
      "source": [
        ""
      ],
      "execution_count": null,
      "outputs": []
    }
  ]
}